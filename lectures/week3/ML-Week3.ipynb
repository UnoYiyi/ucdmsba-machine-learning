{
 "cells": [
  {
   "cell_type": "markdown",
   "metadata": {
    "slideshow": {
     "slide_type": "slide"
    }
   },
   "source": [
    "# BAX 452\n",
    "### Session 3:  Duration 5:45 pm - 8:30 pm w/ 15 minute Break\n",
    "* Quiz 3:  5:45pm-6pm\n",
    "* Review Social Power Homework (Class Discussion):  6pm-6:30pm\n",
    "* Lecture Part 1:  Data Manipulation and Transformation:  6:30pm-7pm\n",
    "* Break:  7pm-7:15pm\n",
    "* Project Team Case Study:  Creating test and training sets with Wine dataset 7:15pm-8pm\n",
    "* Mario Izquierdo, Core Member Twitch API Team: Guest Lecture:  8pm-8:30pm\n"
   ]
  },
  {
   "cell_type": "markdown",
   "metadata": {
    "slideshow": {
     "slide_type": "slide"
    }
   },
   "source": [
    "## Quiz 3: 5:45pm-6pm"
   ]
  },
  {
   "cell_type": "markdown",
   "metadata": {
    "slideshow": {
     "slide_type": "slide"
    }
   },
   "source": [
    "## Review Social Power Homework (Class Discussion): 6pm-6:30pm\n",
    "\n",
    "* What Data problems did you run in to and what approaches did you use to fix them?\n",
    "* What Data Visualization techniques did you find that were the most helpful and why?\n",
    "* What the toughest part of the assignment and why?\n",
    "* What groupings revealed new insights?\n",
    "* What did you learn that you want to share?\n",
    "\n"
   ]
  },
  {
   "cell_type": "markdown",
   "metadata": {
    "slideshow": {
     "slide_type": "slide"
    }
   },
   "source": [
    "## Lecture Data Manipulation and Data Visualization: 6:30pm-7pm\n",
    "* Merging Data into Pandas\n",
    "* ggplot overview and concepts\n"
   ]
  },
  {
   "cell_type": "markdown",
   "metadata": {
    "slideshow": {
     "slide_type": "subslide"
    }
   },
   "source": [
    "## Join and Merge in Pandas\n",
    "\n",
    "[join and merge pandas](https://chrisalbon.com/python/data_wrangling/pandas_join_merge_dataframe/)"
   ]
  },
  {
   "cell_type": "markdown",
   "metadata": {},
   "source": [
    "## ggplot overview and concepts\n",
    "[data visualization in ggplot](http://r4ds.had.co.nz/data-visualisation.html)"
   ]
  },
  {
   "cell_type": "markdown",
   "metadata": {
    "slideshow": {
     "slide_type": "slide"
    }
   },
   "source": [
    "## Break:  7pm-7:15pm"
   ]
  },
  {
   "cell_type": "markdown",
   "metadata": {
    "slideshow": {
     "slide_type": "slide"
    }
   },
   "source": [
    "## Case Study:  Test and Training Sets Wine Data: 7:15pm-8pm\n",
    "\n",
    "* Experiment with different types of splitting of test and training data\n",
    "* Submit your findings on the results of your experiments to canvas and/or Github and/or Kaggle"
   ]
  },
  {
   "cell_type": "markdown",
   "metadata": {},
   "source": [
    "## Mario Izquierdo, Core Member Twitch API Team: Guest Lecture: 8pm-8:30pm"
   ]
  },
  {
   "cell_type": "code",
   "execution_count": null,
   "metadata": {},
   "outputs": [],
   "source": []
  }
 ],
 "metadata": {
  "celltoolbar": "Slideshow",
  "kernelspec": {
   "display_name": "Python 3",
   "language": "python",
   "name": "python3"
  },
  "language_info": {
   "codemirror_mode": {
    "name": "ipython",
    "version": 3
   },
   "file_extension": ".py",
   "mimetype": "text/x-python",
   "name": "python",
   "nbconvert_exporter": "python",
   "pygments_lexer": "ipython3",
   "version": "3.6.4"
  }
 },
 "nbformat": 4,
 "nbformat_minor": 2
}
