{
 "cells": [
  {
   "cell_type": "markdown",
   "metadata": {},
   "source": [
    "# BAX 452\n",
    "\n",
    "### Class Intro and Overview of Syllabus\n",
    "#### Session 1:  Duration 5:45 pm - 8:30 pm w/ 15 minute Break\n",
    "*  Intro and Go Over Syllabus:  ~15-30 minutes\n",
    "*  Quiz 1:  15 Minutes\n",
    "*  Lecture Part 1:  ~30 Minutes (break 7-7:15)\n",
    "*  Lecture Part 2:  ~30 Minutes \n",
    "*  Project Team Case Study:  ~30 Minutes\n"
   ]
  },
  {
   "cell_type": "markdown",
   "metadata": {
    "slideshow": {
     "slide_type": "slide"
    }
   },
   "source": [
    "## Lecture One:  Software Carpentry\n",
    "\n",
    "* IPython/Jupyter Notebook and Python Review\n",
    "* Github Project Review\n",
    "* Flask/Chalice (Hello World)"
   ]
  },
  {
   "cell_type": "markdown",
   "metadata": {
    "slideshow": {
     "slide_type": "slide"
    }
   },
   "source": [
    "### IPython/Jupyter Notebook and Python Review\n",
    "\n",
    "Brief Overview:\n",
    "https://github.com/noahgift/functional_intro_to_python\n"
   ]
  },
  {
   "cell_type": "markdown",
   "metadata": {
    "slideshow": {
     "slide_type": "slide"
    }
   },
   "source": [
    "### Github/Makefiles and Build Systems\n",
    "\n",
    "Walk through this project:\n",
    "\n",
    "https://github.com/noahgift/myrepo\n"
   ]
  },
  {
   "cell_type": "markdown",
   "metadata": {
    "slideshow": {
     "slide_type": "slide"
    }
   },
   "source": [
    "### Project Team Case Study: 8-8:30"
   ]
  },
  {
   "cell_type": "code",
   "execution_count": 1,
   "metadata": {},
   "outputs": [],
   "source": [
    "v = \"\"\"var\"\"\""
   ]
  },
  {
   "cell_type": "code",
   "execution_count": 2,
   "metadata": {},
   "outputs": [
    {
     "data": {
      "text/plain": [
       "'var'"
      ]
     },
     "execution_count": 2,
     "metadata": {},
     "output_type": "execute_result"
    }
   ],
   "source": [
    "v"
   ]
  },
  {
   "cell_type": "code",
   "execution_count": null,
   "metadata": {},
   "outputs": [],
   "source": []
  }
 ],
 "metadata": {
  "celltoolbar": "Slideshow",
  "kernelspec": {
   "display_name": "Python 3",
   "language": "python",
   "name": "python3"
  },
  "language_info": {
   "codemirror_mode": {
    "name": "ipython",
    "version": 3
   },
   "file_extension": ".py",
   "mimetype": "text/x-python",
   "name": "python",
   "nbconvert_exporter": "python",
   "pygments_lexer": "ipython3",
   "version": "3.6.4"
  }
 },
 "nbformat": 4,
 "nbformat_minor": 2
}
