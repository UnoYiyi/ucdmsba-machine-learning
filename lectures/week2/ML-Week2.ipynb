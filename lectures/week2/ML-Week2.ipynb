{
 "cells": [
  {
   "cell_type": "markdown",
   "metadata": {
    "slideshow": {
     "slide_type": "slide"
    }
   },
   "source": [
    "# BAX 452\n",
    "### Session 2:  Duration 5:45 pm - 8:30 pm w/ 15 minute Break\n",
    "* Quiz 2:  5:45pm-6pm\n",
    "* Go Over Poll Results\n",
    "* Review Titanic Case Study Homework (Class Discussion):  6pm-6:30pm\n",
    "* Lecture Part 1:  Machine Learning Overview ~30 minutes:  6:30pm-7pm\n",
    "* Lecture Part 2:  Breakdown of Production Machine Learning Project-Social Media Influence, Salary and Performance in the NBA ~30 minutes: 7:15pm-8pm\n",
    "* Project Team Case Study ~30minutes:  Create Your Own ML Technique on the Social Media Influence, Salary and Performance in the NBA Data Set:  8pm-8:30pm\n"
   ]
  },
  {
   "cell_type": "markdown",
   "metadata": {
    "slideshow": {
     "slide_type": "slide"
    }
   },
   "source": [
    "## Quiz 2: 5:45pm-6pm"
   ]
  },
  {
   "cell_type": "markdown",
   "metadata": {
    "slideshow": {
     "slide_type": "slide"
    }
   },
   "source": [
    "## Go Over Poll Results"
   ]
  },
  {
   "cell_type": "markdown",
   "metadata": {
    "slideshow": {
     "slide_type": "slide"
    }
   },
   "source": [
    "## Review Titanic Case Study Homework (Class Discussion)\n",
    "\n",
    "* What Data problems did you run in to and what approaches did you use to fix them?\n",
    "* What Data Visualization techniques did you find that were the most helpful and why?\n",
    "* How did you divide the test and training data and why?\n",
    "* What the toughest part of the assignment and why?\n",
    "* What did you learn from other notebooks that you want to share?\n",
    "\n"
   ]
  },
  {
   "cell_type": "markdown",
   "metadata": {
    "slideshow": {
     "slide_type": "slide"
    }
   },
   "source": [
    "## Interactive Lecture Part 1: Machine Learning Overview ~30 minutes\n",
    "* What is ML\n",
    "* Supervized ML\n",
    "* Unsupervized ML\n",
    "* Reinforcement Learning\n",
    "* Classification\n",
    "* Regression\n",
    "* PCA\n"
   ]
  },
  {
   "cell_type": "markdown",
   "metadata": {
    "slideshow": {
     "slide_type": "slide"
    }
   },
   "source": [
    "## What is ML?\n",
    "\n",
    "* \"Machine learning involves building mathematical models to help understand data.\" - Python Data Science Handbook by Jake VanderPlas; \n",
    "\n",
    "* \"Giving Computers the Ability to Learn from Data\" - Wikipedia\n",
    "\n",
    "* What is your definition?\n"
   ]
  },
  {
   "cell_type": "markdown",
   "metadata": {
    "slideshow": {
     "slide_type": "slide"
    }
   },
   "source": [
    "## Supervized Learning\n",
    "\n",
    "* Labeled Data\n",
    "* Direct Feedback\n",
    "* Predict outcome/future\n",
    "* What else?\n"
   ]
  },
  {
   "cell_type": "markdown",
   "metadata": {
    "slideshow": {
     "slide_type": "subslide"
    }
   },
   "source": [
    "## Unsupervized Learning\n",
    "![Best Players in NBA](https://pbs.twimg.com/media/BrwBNqDCIAA8eXs.png:large)"
   ]
  },
  {
   "cell_type": "markdown",
   "metadata": {
    "slideshow": {
     "slide_type": "slide"
    }
   },
   "source": [
    "\n",
    "## Unsupervized Learning\n",
    "\n",
    "* No labels/targets\n",
    "* No feedback\n",
    "* Find hidden structure in data\n",
    "* Intuitive...i.e. hiring recommendations (clustering)\n",
    "* What else?\n"
   ]
  },
  {
   "cell_type": "markdown",
   "metadata": {
    "slideshow": {
     "slide_type": "slide"
    }
   },
   "source": [
    "## Reinforcement Learning\n",
    "* Less commonly used type of Machine Learning\n",
    "* Decision process\n",
    "* Reward system\n",
    "* Learn series of actions\n",
    "* What else?"
   ]
  },
  {
   "cell_type": "markdown",
   "metadata": {
    "slideshow": {
     "slide_type": "slide"
    }
   },
   "source": [
    "## Classification\n",
    "![winning season nba](https://camo.githubusercontent.com/f1aa438c6cd81890b772e86c03a25d335f8e39ff/68747470733a2f2f7261772e6769746875622e636f6d2f6e6f6168676966742f626f756e646172792f6d61737465722f696d616765732f77696e6e696e672d736561736f6e2d70726f626162696c6974792e706e67)"
   ]
  },
  {
   "cell_type": "markdown",
   "metadata": {
    "slideshow": {
     "slide_type": "subslide"
    }
   },
   "source": [
    "## Classification\n",
    "* Subcategory of Supervisized learning\n",
    "* Goal is to predict the categorical class labels\n",
    "* Below is winning percentage as color with Turnovers and Blocks in NBA"
   ]
  },
  {
   "cell_type": "markdown",
   "metadata": {
    "slideshow": {
     "slide_type": "slide"
    }
   },
   "source": [
    "## Regression\n",
    "![point vs salary nba](https://user-images.githubusercontent.com/58792/28044183-b873238c-658a-11e7-90b7-bd923aeb1e32.png)"
   ]
  },
  {
   "cell_type": "markdown",
   "metadata": {
    "slideshow": {
     "slide_type": "subslide"
    }
   },
   "source": [
    "## Regression\n",
    "* prediction of continuous outcome\n",
    "* There are many exotic types of regression including things like kNN regression, etc.\n",
    "* What else?"
   ]
  },
  {
   "cell_type": "markdown",
   "metadata": {
    "slideshow": {
     "slide_type": "slide"
    }
   },
   "source": [
    "## PCA\n",
    "\n",
    "* Dimension reduction can be used in visualization\n",
    "* Subcategory of unsuperized learning\n",
    "* What am I missing?\n",
    "![3D to 2D](https://image.ibb.co/d5dGp6/Screen_Shot_2018_01_12_at_4_47_25_PM.png)"
   ]
  },
  {
   "cell_type": "markdown",
   "metadata": {
    "slideshow": {
     "slide_type": "slide"
    }
   },
   "source": [
    "## Break:  7-7:15"
   ]
  },
  {
   "cell_type": "markdown",
   "metadata": {
    "slideshow": {
     "slide_type": "slide"
    }
   },
   "source": [
    "##  Lecture Part 2:  Breakdown of Production Machine Learning Project-Social Media Influence, Salary and Performance in the NBA ~30 minutes"
   ]
  },
  {
   "cell_type": "markdown",
   "metadata": {
    "slideshow": {
     "slide_type": "slide"
    }
   },
   "source": [
    "## Project Team Case Study ~30minutes: "
   ]
  },
  {
   "cell_type": "code",
   "execution_count": null,
   "metadata": {},
   "outputs": [],
   "source": []
  }
 ],
 "metadata": {
  "celltoolbar": "Slideshow",
  "kernelspec": {
   "display_name": "Python 3",
   "language": "python",
   "name": "python3"
  },
  "language_info": {
   "codemirror_mode": {
    "name": "ipython",
    "version": 3
   },
   "file_extension": ".py",
   "mimetype": "text/x-python",
   "name": "python",
   "nbconvert_exporter": "python",
   "pygments_lexer": "ipython3",
   "version": "3.6.4"
  }
 },
 "nbformat": 4,
 "nbformat_minor": 2
}
