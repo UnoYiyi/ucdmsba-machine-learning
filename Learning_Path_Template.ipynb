{
 "cells": [
  {
   "cell_type": "markdown",
   "metadata": {},
   "source": [
    "# Topics:  IPython and Numpy\n",
    "\n",
    "\n",
    "### Jake VanderPlas, “Python Data Science Handbook: Essential Tools for Working with Data”, O’Reilly, 2016\n",
    "\n",
    "### [Chapter 1:  IPython](https://jakevdp.github.io/PythonDataScienceHandbook/01.00-ipython-beyond-normal-python.html)\n",
    "\n",
    "### [Chapter 2:  NumPy](https://jakevdp.github.io/PythonDataScienceHandbook/02.00-introduction-to-numpy.html)\n",
    "\n"
   ]
  },
  {
   "cell_type": "markdown",
   "metadata": {},
   "source": [
    "# Topics:  Exploratory EDA and ML Overview\n",
    "\n",
    "### [Journey Through Titanic](https://www.kaggle.com/omarelgabry/a-journey-through-titanic)\n",
    "\n",
    "\n",
    "### [Social Power and Influence in the NBA](https://www.ibm.com/developerworks/library/ba-social-influence-python-pandas-machine-learning-r-1/index.html)\n",
    "\n",
    "\n",
    "### Sebastian Raschka, “Python Machine Learning”, Packt, 2017\n",
    "### [Chapter 1:  ML Overview](https://github.com/rasbt/python-machine-learning-book-2nd-edition/blob/master/code/ch01/ch01.ipynb)\n",
    "\n",
    "\n",
    "### Jake VanderPlas, “Python Data Science Handbook: Essential Tools for Working with Data”, O’Reilly, 2016\n",
    "\n",
    "### [Chapter 4:  Visualization with Matplotlib](https://jakevdp.github.io/PythonDataScienceHandbook/04.00-introduction-to-matplotlib.html)\n",
    "\n",
    "\n",
    "### [Chapter 5:  Machine Learning Overview](https://jakevdp.github.io/PythonDataScienceHandbook/05.00-machine-learning.html)\n"
   ]
  },
  {
   "attachments": {},
   "cell_type": "markdown",
   "metadata": {},
   "source": [
    "# Topics:  Data Manipulation and Data Visualization"
   ]
  },
  {
   "cell_type": "markdown",
   "metadata": {},
   "source": [
    "# Topics:  Regression"
   ]
  },
  {
   "cell_type": "code",
   "execution_count": null,
   "metadata": {},
   "outputs": [],
   "source": []
  }
 ],
 "metadata": {
  "kernelspec": {
   "display_name": "Python 3",
   "language": "python",
   "name": "python3"
  },
  "language_info": {
   "codemirror_mode": {
    "name": "ipython",
    "version": 3
   },
   "file_extension": ".py",
   "mimetype": "text/x-python",
   "name": "python",
   "nbconvert_exporter": "python",
   "pygments_lexer": "ipython3",
   "version": "3.6.4"
  }
 },
 "nbformat": 4,
 "nbformat_minor": 2
}
